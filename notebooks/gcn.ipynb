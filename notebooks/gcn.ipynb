{
  "cells": [
    {
      "cell_type": "code",
      "execution_count": 1,
      "metadata": {
        "id": "JvHycy3aFYiR"
      },
      "outputs": [],
      "source": [
        "import pandas as pd\n",
        "import numpy as np"
      ]
    },
    {
      "cell_type": "code",
      "execution_count": 2,
      "metadata": {
        "id": "ws_lKFySHaIo"
      },
      "outputs": [],
      "source": [
        "import torch"
      ]
    },
    {
      "cell_type": "code",
      "execution_count": null,
      "metadata": {
        "colab": {
          "base_uri": "https://localhost:8080/"
        },
        "id": "QsOS-bg-HYcV",
        "outputId": "e8b5018f-790c-472e-f915-5e718dea5e7a"
      },
      "outputs": [
        {
          "name": "stdout",
          "output_type": "stream",
          "text": [
            "Looking in links: https://data.pyg.org/whl/torch-2.2.1+cu121.html\n",
            "Requirement already satisfied: torch-scatter in /usr/local/lib/python3.10/dist-packages (2.1.2+pt22cu121)\n",
            "Requirement already satisfied: torch-sparse in /usr/local/lib/python3.10/dist-packages (0.6.18+pt22cu121)\n",
            "Requirement already satisfied: torch-cluster in /usr/local/lib/python3.10/dist-packages (1.6.3+pt22cu121)\n",
            "Requirement already satisfied: torch-spline-conv in /usr/local/lib/python3.10/dist-packages (1.2.2+pt22cu121)\n",
            "Requirement already satisfied: torch-geometric in /usr/local/lib/python3.10/dist-packages (2.5.2)\n",
            "Requirement already satisfied: scipy in /usr/local/lib/python3.10/dist-packages (from torch-sparse) (1.11.4)\n",
            "Requirement already satisfied: tqdm in /usr/local/lib/python3.10/dist-packages (from torch-geometric) (4.66.2)\n",
            "Requirement already satisfied: numpy in /usr/local/lib/python3.10/dist-packages (from torch-geometric) (1.25.2)\n",
            "Requirement already satisfied: fsspec in /usr/local/lib/python3.10/dist-packages (from torch-geometric) (2023.6.0)\n",
            "Requirement already satisfied: jinja2 in /usr/local/lib/python3.10/dist-packages (from torch-geometric) (3.1.3)\n",
            "Requirement already satisfied: aiohttp in /usr/local/lib/python3.10/dist-packages (from torch-geometric) (3.9.3)\n",
            "Requirement already satisfied: requests in /usr/local/lib/python3.10/dist-packages (from torch-geometric) (2.31.0)\n",
            "Requirement already satisfied: pyparsing in /usr/local/lib/python3.10/dist-packages (from torch-geometric) (3.1.2)\n",
            "Requirement already satisfied: scikit-learn in /usr/local/lib/python3.10/dist-packages (from torch-geometric) (1.2.2)\n",
            "Requirement already satisfied: psutil>=5.8.0 in /usr/local/lib/python3.10/dist-packages (from torch-geometric) (5.9.5)\n",
            "Requirement already satisfied: aiosignal>=1.1.2 in /usr/local/lib/python3.10/dist-packages (from aiohttp->torch-geometric) (1.3.1)\n",
            "Requirement already satisfied: attrs>=17.3.0 in /usr/local/lib/python3.10/dist-packages (from aiohttp->torch-geometric) (23.2.0)\n",
            "Requirement already satisfied: frozenlist>=1.1.1 in /usr/local/lib/python3.10/dist-packages (from aiohttp->torch-geometric) (1.4.1)\n",
            "Requirement already satisfied: multidict<7.0,>=4.5 in /usr/local/lib/python3.10/dist-packages (from aiohttp->torch-geometric) (6.0.5)\n",
            "Requirement already satisfied: yarl<2.0,>=1.0 in /usr/local/lib/python3.10/dist-packages (from aiohttp->torch-geometric) (1.9.4)\n",
            "Requirement already satisfied: async-timeout<5.0,>=4.0 in /usr/local/lib/python3.10/dist-packages (from aiohttp->torch-geometric) (4.0.3)\n",
            "Requirement already satisfied: MarkupSafe>=2.0 in /usr/local/lib/python3.10/dist-packages (from jinja2->torch-geometric) (2.1.5)\n",
            "Requirement already satisfied: charset-normalizer<4,>=2 in /usr/local/lib/python3.10/dist-packages (from requests->torch-geometric) (3.3.2)\n",
            "Requirement already satisfied: idna<4,>=2.5 in /usr/local/lib/python3.10/dist-packages (from requests->torch-geometric) (3.6)\n",
            "Requirement already satisfied: urllib3<3,>=1.21.1 in /usr/local/lib/python3.10/dist-packages (from requests->torch-geometric) (2.0.7)\n",
            "Requirement already satisfied: certifi>=2017.4.17 in /usr/local/lib/python3.10/dist-packages (from requests->torch-geometric) (2024.2.2)\n",
            "Requirement already satisfied: joblib>=1.1.1 in /usr/local/lib/python3.10/dist-packages (from scikit-learn->torch-geometric) (1.3.2)\n",
            "Requirement already satisfied: threadpoolctl>=2.0.0 in /usr/local/lib/python3.10/dist-packages (from scikit-learn->torch-geometric) (3.4.0)\n"
          ]
        }
      ],
      "source": [
        "tv = torch.__version__\n",
        "!pip install torch-scatter torch-sparse torch-cluster torch-spline-conv torch-geometric -f https://data.pyg.org/whl/torch-\"$tv\".html\n",
        "!pip install biopython"
      ]
    },
    {
      "cell_type": "code",
      "execution_count": null,
      "metadata": {
        "id": "Wp7pqfHCHkK2"
      },
      "outputs": [],
      "source": [
        "import torch.nn as nn\n",
        "import torch.nn.functional as F\n",
        "from torch_geometric.nn import SAGEConv, GCNConv, GATConv, global_mean_pool\n",
        "from torch_geometric.data import Data, Dataset\n",
        "from torch_geometric.data import NeighborSampler\n",
        "import torch_geometric.transforms as T\n",
        "from torch_cluster import random_walk\n",
        "import torch.optim as optim\n",
        "\n",
        "import os\n",
        "import numpy as np\n",
        "from tqdm import tqdm\n",
        "from collections import defaultdict, Counter\n",
        "import matplotlib.pyplot as plt\n",
        "import seaborn as sns\n",
        "from Bio import SeqIO\n",
        "\n",
        "from sklearn.preprocessing import LabelEncoder\n",
        "from sklearn.model_selection import train_test_split"
      ]
    },
    {
      "cell_type": "code",
      "execution_count": null,
      "metadata": {
        "id": "tr9NEqgPnOEE"
      },
      "outputs": [],
      "source": [
        "# Mention dataset, bin count and version for experiment\n",
        "# Note: bin_count is only applicable for simulated datasets. For real datasets, it is assigned to None.\n",
        "dataset = 'simlord'\n",
        "bin_count = 10\n",
        "version = 2\n",
        "\n",
        "bins = bin_count if dataset == 'simlord' else None"
      ]
    },
    {
      "cell_type": "code",
      "execution_count": null,
      "metadata": {
        "id": "7EwRoecgKlgO"
      },
      "outputs": [],
      "source": [
        "result_path = f\"/content/drive/MyDrive/FYP/FYP/datasets/{dataset}{'/bin_'+str(bins) if bins != None else ''}/v{version}\"\n",
        "result_path"
      ]
    },
    {
      "cell_type": "code",
      "execution_count": null,
      "metadata": {
        "id": "FFTiLyP2F77_"
      },
      "outputs": [],
      "source": [
        "os.listdir(result_path)"
      ]
    },
    {
      "cell_type": "code",
      "execution_count": null,
      "metadata": {
        "id": "w1emOGQ8Fagm"
      },
      "outputs": [],
      "source": [
        "truth_ = np.array(open(f\"{result_path}/ground_truth.txt\").read().strip().split(\"\\n\"))\n",
        "truth_original = np.array(open(f\"{result_path}/truth.txt\").read().strip().split(\"\\n\"))\n",
        "\n",
        "data = np.load(f'{result_path}/data.npz')"
      ]
    },
    {
      "cell_type": "code",
      "execution_count": null,
      "metadata": {
        "id": "BB1jJnrbO3Kx"
      },
      "outputs": [],
      "source": [
        "weight_df = pd.read_csv(f\"{result_path}/simlord_with_kraken_weights.csv\")\n",
        "sample_weights = weight_df['weight_standardized'].values"
      ]
    },
    {
      "cell_type": "code",
      "execution_count": null,
      "metadata": {
        "id": "ruWVia8Rdw1m"
      },
      "outputs": [],
      "source": [
        "def get_idx_maps(read_ids_file_path, truth):\n",
        "    reads_truth = {}\n",
        "    read_id_idx = {}\n",
        "    # global read_id_idx\n",
        "    with open(read_ids_file_path) as read_ids_file:\n",
        "        for t, rid in tqdm(zip(truth, read_ids_file)):\n",
        "            rid = rid.strip().split()[0][1:]\n",
        "            reads_truth[rid] = t\n",
        "            read_id_idx[rid] = len(read_id_idx)\n",
        "\n",
        "    return reads_truth, read_id_idx\n"
      ]
    },
    {
      "cell_type": "code",
      "execution_count": null,
      "metadata": {
        "id": "R-7C2__CeElA"
      },
      "outputs": [],
      "source": [
        "reads_truth_, read_id_idx_ = get_idx_maps(f\"{result_path}/read_ids\", truth_)"
      ]
    },
    {
      "cell_type": "code",
      "execution_count": null,
      "metadata": {
        "id": "j9eaACr4eLq1"
      },
      "outputs": [],
      "source": [
        "all(np.array(list(reads_truth_.values())) == truth_)"
      ]
    },
    {
      "cell_type": "code",
      "execution_count": null,
      "metadata": {
        "id": "BdrVdcPVHFJn"
      },
      "outputs": [],
      "source": [
        "edges_ = data['edges']\n",
        "comp_ = data['scaled']"
      ]
    },
    {
      "cell_type": "code",
      "execution_count": null,
      "metadata": {
        "id": "Mus5dmJdE4IC"
      },
      "outputs": [],
      "source": [
        "comp_ = torch.from_numpy(comp_).float()"
      ]
    },
    {
      "cell_type": "code",
      "execution_count": null,
      "metadata": {
        "id": "E5P7hCL3h7jV"
      },
      "outputs": [],
      "source": [
        "idx = np.where(truth_ != '__None')[0]\n",
        "idx.shape"
      ]
    },
    {
      "cell_type": "code",
      "execution_count": null,
      "metadata": {
        "id": "QjZfFIQikWFz"
      },
      "outputs": [],
      "source": [
        "truth = truth_[idx]\n",
        "comp = comp_[idx]\n",
        "read_id_idx = np.array(list(read_id_idx_.items()))[idx]\n",
        "reads_truth = np.array(list(reads_truth_.items()))[idx]"
      ]
    },
    {
      "cell_type": "code",
      "execution_count": null,
      "metadata": {
        "id": "Vzp3G6n9bgYX"
      },
      "outputs": [],
      "source": [
        "id_list = read_id_idx[:,1]\n",
        "id_list"
      ]
    },
    {
      "cell_type": "code",
      "execution_count": null,
      "metadata": {
        "id": "YPQ3f4G7pUhz"
      },
      "outputs": [],
      "source": [
        "edges_.shape"
      ]
    },
    {
      "cell_type": "code",
      "execution_count": null,
      "metadata": {
        "id": "Pvy3DJ1nbmQL"
      },
      "outputs": [],
      "source": [
        "# mask = np.isin(edges_[:,0], id_list) & np.isin(edges_[:,1], id_list)\n",
        "# mask.shape"
      ]
    },
    {
      "cell_type": "code",
      "execution_count": null,
      "metadata": {
        "id": "jqIGtsx2pam2"
      },
      "outputs": [],
      "source": [
        "# edges = edges_[mask]\n",
        "edges = edges_\n",
        "edges.shape"
      ]
    },
    {
      "cell_type": "code",
      "execution_count": null,
      "metadata": {
        "id": "58YzLiDVaoUd"
      },
      "outputs": [],
      "source": [
        "edge_index = torch.tensor(edges, dtype=torch.long)\n",
        "edge_index.shape"
      ]
    },
    {
      "cell_type": "code",
      "execution_count": null,
      "metadata": {
        "id": "d5jMiGFNQzuY"
      },
      "outputs": [],
      "source": [
        "mask_unk = truth == 'unknown'\n",
        "truth[mask_unk] = truth_original[mask_unk]"
      ]
    },
    {
      "cell_type": "code",
      "execution_count": null,
      "metadata": {
        "id": "33Zq2O0SKxHr"
      },
      "outputs": [],
      "source": [
        "def get_train_data(truth):\n",
        "    lb = LabelEncoder()\n",
        "    lb.fit(truth)\n",
        "\n",
        "    y = lb.transform(truth)\n",
        "    y = torch.tensor(y, dtype=torch.long)\n",
        "\n",
        "    no_classes = len(set(truth))\n",
        "\n",
        "    return y, no_classes, lb\n",
        "\n",
        "y, no_classes, encoder = get_train_data(truth)"
      ]
    },
    {
      "cell_type": "code",
      "execution_count": null,
      "metadata": {
        "id": "Wxvfw_zmwvCv"
      },
      "outputs": [],
      "source": [
        "no_classes"
      ]
    },
    {
      "cell_type": "code",
      "execution_count": null,
      "metadata": {
        "id": "ZxCuvd7s_wfQ"
      },
      "outputs": [],
      "source": [
        "train_idx = np.load(f\"{result_path}/train_indices_{dataset}_v{version}.npy\")\n",
        "test_idx = np.load(f\"{result_path}/test_indices_{dataset}_v{version}.npy\")\n",
        "train_idx.shape, test_idx.shape"
      ]
    },
    {
      "cell_type": "code",
      "execution_count": null,
      "metadata": {
        "id": "Z6xcD2Ob_3vx"
      },
      "outputs": [],
      "source": [
        "train_idx, val_idx, weight_idx_train, weight_idx_val = train_test_split(train_idx, np.arange(len(train_idx)), test_size=0.1, random_state=42)\n",
        "train_idx.shape, val_idx.shape, weight_idx_train.shape, weight_idx_val.shape"
      ]
    },
    {
      "cell_type": "code",
      "execution_count": null,
      "metadata": {
        "id": "sQtIxXlWMYCx"
      },
      "outputs": [],
      "source": [
        "sample_weights_train = sample_weights[weight_idx_train]\n",
        "sample_weights_val = sample_weights[weight_idx_val]\n",
        "sample_weights_train.shape, sample_weights_val.shape"
      ]
    },
    {
      "cell_type": "code",
      "execution_count": null,
      "metadata": {
        "id": "ngEBC72RHLex"
      },
      "outputs": [],
      "source": [
        "def get_graph_data(features, edges,y,train_idx,test_idx,val_idx):\n",
        "    edge_index = torch.tensor(edges, dtype=torch.long)\n",
        "    edge_index = edge_index.t().contiguous()\n",
        "\n",
        "    train_indices = torch.tensor(train_idx, dtype=torch.long)\n",
        "    test_indices = torch.tensor(test_idx, dtype=torch.long)\n",
        "    val_indices = torch.tensor(val_idx, dtype=torch.long)\n",
        "\n",
        "    data = Data(x=features, edge_index=edge_index, y=y)\n",
        "\n",
        "    train_mask = torch.zeros(data.num_nodes, dtype=torch.bool)\n",
        "    test_mask = torch.zeros(data.num_nodes, dtype=torch.bool)\n",
        "    val_mask = torch.zeros(data.num_nodes, dtype=torch.bool)\n",
        "\n",
        "    train_mask[train_indices] = True\n",
        "    test_mask[test_indices] = True\n",
        "    val_mask[val_indices] = True\n",
        "\n",
        "    data.train_mask = train_mask\n",
        "    data.test_mask = test_mask\n",
        "    data.val_mask = val_mask\n",
        "\n",
        "    return data\n",
        "\n",
        "data = get_graph_data(comp, edges,y,train_idx,test_idx,val_idx)"
      ]
    },
    {
      "cell_type": "code",
      "execution_count": null,
      "metadata": {
        "id": "7DXDVDVGPRpR"
      },
      "outputs": [],
      "source": [
        "data"
      ]
    },
    {
      "cell_type": "code",
      "execution_count": null,
      "metadata": {
        "id": "lT5KzEWXg6hH"
      },
      "outputs": [],
      "source": [
        "best_acc = 0"
      ]
    },
    {
      "cell_type": "code",
      "execution_count": null,
      "metadata": {
        "id": "x8NGtBKsQDng"
      },
      "outputs": [],
      "source": [
        "def train_node_classifier(model, graph, optimizer, criterion, n_epochs=200):\n",
        "    train_losses = []\n",
        "    val_losses = []\n",
        "\n",
        "    for epoch in range(1, n_epochs + 1):\n",
        "        model.train()\n",
        "        optimizer.zero_grad()\n",
        "        out = model(graph)\n",
        "        loss = criterion(out[graph.train_mask], graph.y[graph.train_mask])\n",
        "        weighted_train_loss = torch.mean(loss * torch.tensor(sample_weights_train))\n",
        "        weighted_train_loss.backward()\n",
        "        optimizer.step()\n",
        "\n",
        "        pred = out.argmax(dim=1)\n",
        "        acc = eval_node_classifier(model, graph, graph.val_mask)\n",
        "\n",
        "        val_loss = criterion(out[graph.val_mask], graph.y[graph.val_mask])\n",
        "        weighted_val_loss = torch.mean(val_loss * torch.tensor(sample_weights_val))\n",
        "\n",
        "        train_losses.append(weighted_train_loss.item())\n",
        "        val_losses.append(weighted_val_loss.item())\n",
        "\n",
        "\n",
        "        weighted_train_loss_np = weighted_train_loss.detach().numpy()\n",
        "        weighted_val_loss_np = weighted_val_loss.detach().numpy()\n",
        "\n",
        "        if epoch % 1 == 0:\n",
        "            print(f'Epoch: {epoch:03d}, Train Loss: {weighted_train_loss_np:.4f}, Val Acc: {acc:.4f}, Val Loss: {weighted_val_loss_np:.4f}')\n",
        "\n",
        "        if epoch % 10 == 0:\n",
        "            print(eval_node_classifier(model, graph, graph.test_mask))\n",
        "\n",
        "        if acc > 0.995:\n",
        "            break\n",
        "\n",
        "    return model, train_losses, val_losses\n",
        "\n",
        "\n",
        "def eval_node_classifier(model, graph, mask):\n",
        "    model.eval()\n",
        "    pred = model(graph).argmax(dim=1)\n",
        "    correct = (pred[mask] == graph.y[mask]).sum()\n",
        "    acc = int(correct) / int(mask.sum())\n",
        "    return acc"
      ]
    },
    {
      "cell_type": "code",
      "execution_count": null,
      "metadata": {
        "id": "1aG964roHoSE"
      },
      "outputs": [],
      "source": [
        "class GNNModel(torch.nn.Module):\n",
        "    def __init__(self, in_channels, out_channels, num_layers, device):\n",
        "        super(GNNModel,self).__init__()\n",
        "\n",
        "        self.num_layers = num_layers\n",
        "        # hidden_channels = (in_channels + out_channels)//2\n",
        "        hidden_channels = 128\n",
        "\n",
        "        self.conv1 = GCNConv(in_channels, hidden_channels)\n",
        "        self.conv2 = GCNConv(hidden_channels, hidden_channels)\n",
        "\n",
        "        self.fc1 = torch.nn.Linear(hidden_channels, hidden_channels//2)\n",
        "        self.fc2 = torch.nn.Linear(hidden_channels//2, out_channels)\n",
        "\n",
        "        self.device = device\n",
        "\n",
        "        self.to(device)\n",
        "\n",
        "    def reset_parameters(self):\n",
        "        for conv in self.convs:\n",
        "            conv.reset_parameters()\n",
        "\n",
        "    def forward(self, data):\n",
        "        x, edge_index = data.x, data.edge_index\n",
        "        x = x.to(self.device)\n",
        "        edge_index = edge_index.to(self.device)\n",
        "\n",
        "        # print(x.shape, edge_index.shape)\n",
        "\n",
        "        x = self.conv1(x, edge_index)\n",
        "        x = F.relu(x)\n",
        "        x = F.dropout(x, p=0.2, training=self.training)\n",
        "        x = self.conv2(x, edge_index)\n",
        "        x = F.relu(x)\n",
        "        x = F.dropout(x, p=0.2, training=self.training)\n",
        "        x = self.fc1(x)\n",
        "        x = F.relu(x)\n",
        "        x = F.dropout(x, p=0.2, training=self.training)\n",
        "        x = self.fc2(x)\n",
        "        x = F.log_softmax(x, dim=1)\n",
        "        return x"
      ]
    },
    {
      "cell_type": "code",
      "execution_count": null,
      "metadata": {
        "id": "zghd6MlNH0Sd"
      },
      "outputs": [],
      "source": [
        "device = torch.device('cuda' if torch.cuda.is_available() else 'cpu')\n",
        "num_layers = 2"
      ]
    },
    {
      "cell_type": "code",
      "execution_count": null,
      "metadata": {
        "id": "ZtRxnQi0yCqA"
      },
      "outputs": [],
      "source": [
        "model = GNNModel(data.x.shape[1], no_classes, num_layers, device)"
      ]
    },
    {
      "cell_type": "code",
      "execution_count": null,
      "metadata": {
        "id": "O1PJghqxItlX"
      },
      "outputs": [],
      "source": [
        "criterion = nn.CrossEntropyLoss(reduction='none')\n",
        "optimizer = optim.Adam(model.parameters(), lr=0.01, weight_decay=10e-6)"
      ]
    },
    {
      "cell_type": "code",
      "execution_count": null,
      "metadata": {
        "id": "-_cVbcDSaKEQ"
      },
      "outputs": [],
      "source": [
        "data.to(device)"
      ]
    },
    {
      "cell_type": "code",
      "execution_count": 55,
      "metadata": {
        "colab": {
          "base_uri": "https://localhost:8080/"
        },
        "id": "3jFciJcdCZc2",
        "outputId": "5f79626f-e5c8-451a-9b72-76cbc67be457"
      },
      "outputs": [
        {
          "name": "stdout",
          "output_type": "stream",
          "text": [
            "Epoch: 001, Train Loss: 0.0279, Val Acc: 0.9600, Val Loss: 0.0310\n",
            "Epoch: 002, Train Loss: 0.0279, Val Acc: 0.9602, Val Loss: 0.0309\n",
            "Epoch: 003, Train Loss: 0.0278, Val Acc: 0.9600, Val Loss: 0.0306\n",
            "Epoch: 004, Train Loss: 0.0277, Val Acc: 0.9597, Val Loss: 0.0307\n",
            "Epoch: 005, Train Loss: 0.0278, Val Acc: 0.9588, Val Loss: 0.0311\n",
            "Epoch: 006, Train Loss: 0.0279, Val Acc: 0.9594, Val Loss: 0.0313\n",
            "Epoch: 007, Train Loss: 0.0280, Val Acc: 0.9580, Val Loss: 0.0308\n",
            "Epoch: 008, Train Loss: 0.0281, Val Acc: 0.9597, Val Loss: 0.0313\n",
            "Epoch: 009, Train Loss: 0.0279, Val Acc: 0.9601, Val Loss: 0.0308\n",
            "Epoch: 010, Train Loss: 0.0275, Val Acc: 0.9609, Val Loss: 0.0306\n",
            "0.9163502980284274\n",
            "Epoch: 011, Train Loss: 0.0274, Val Acc: 0.9603, Val Loss: 0.0304\n",
            "Epoch: 012, Train Loss: 0.0275, Val Acc: 0.9595, Val Loss: 0.0302\n",
            "Epoch: 013, Train Loss: 0.0276, Val Acc: 0.9601, Val Loss: 0.0309\n",
            "Epoch: 014, Train Loss: 0.0274, Val Acc: 0.9606, Val Loss: 0.0306\n",
            "Epoch: 015, Train Loss: 0.0273, Val Acc: 0.9609, Val Loss: 0.0301\n",
            "Epoch: 016, Train Loss: 0.0273, Val Acc: 0.9606, Val Loss: 0.0304\n",
            "Epoch: 017, Train Loss: 0.0274, Val Acc: 0.9605, Val Loss: 0.0298\n",
            "Epoch: 018, Train Loss: 0.0275, Val Acc: 0.9608, Val Loss: 0.0305\n",
            "Epoch: 019, Train Loss: 0.0273, Val Acc: 0.9613, Val Loss: 0.0302\n",
            "Epoch: 020, Train Loss: 0.0273, Val Acc: 0.9610, Val Loss: 0.0297\n",
            "0.9162035763411279\n",
            "Epoch: 021, Train Loss: 0.0272, Val Acc: 0.9613, Val Loss: 0.0300\n",
            "Epoch: 022, Train Loss: 0.0271, Val Acc: 0.9609, Val Loss: 0.0304\n",
            "Epoch: 023, Train Loss: 0.0271, Val Acc: 0.9604, Val Loss: 0.0301\n",
            "Epoch: 024, Train Loss: 0.0273, Val Acc: 0.9592, Val Loss: 0.0302\n",
            "Epoch: 025, Train Loss: 0.0272, Val Acc: 0.9609, Val Loss: 0.0306\n",
            "Epoch: 026, Train Loss: 0.0272, Val Acc: 0.9617, Val Loss: 0.0301\n",
            "Epoch: 027, Train Loss: 0.0270, Val Acc: 0.9617, Val Loss: 0.0299\n",
            "Epoch: 028, Train Loss: 0.0270, Val Acc: 0.9610, Val Loss: 0.0300\n",
            "Epoch: 029, Train Loss: 0.0272, Val Acc: 0.9594, Val Loss: 0.0306\n",
            "Epoch: 030, Train Loss: 0.0273, Val Acc: 0.9611, Val Loss: 0.0307\n",
            "0.9152498853736818\n",
            "Epoch: 031, Train Loss: 0.0271, Val Acc: 0.9614, Val Loss: 0.0299\n",
            "Epoch: 032, Train Loss: 0.0269, Val Acc: 0.9618, Val Loss: 0.0298\n",
            "Epoch: 033, Train Loss: 0.0267, Val Acc: 0.9613, Val Loss: 0.0299\n",
            "Epoch: 034, Train Loss: 0.0267, Val Acc: 0.9609, Val Loss: 0.0298\n",
            "Epoch: 035, Train Loss: 0.0270, Val Acc: 0.9615, Val Loss: 0.0297\n",
            "Epoch: 036, Train Loss: 0.0269, Val Acc: 0.9620, Val Loss: 0.0296\n",
            "Epoch: 037, Train Loss: 0.0267, Val Acc: 0.9621, Val Loss: 0.0296\n",
            "Epoch: 038, Train Loss: 0.0267, Val Acc: 0.9614, Val Loss: 0.0295\n",
            "Epoch: 039, Train Loss: 0.0270, Val Acc: 0.9612, Val Loss: 0.0299\n",
            "Epoch: 040, Train Loss: 0.0268, Val Acc: 0.9618, Val Loss: 0.0295\n",
            "0.9169005043558001\n",
            "Epoch: 041, Train Loss: 0.0266, Val Acc: 0.9622, Val Loss: 0.0299\n",
            "Epoch: 042, Train Loss: 0.0264, Val Acc: 0.9619, Val Loss: 0.0295\n",
            "Epoch: 043, Train Loss: 0.0266, Val Acc: 0.9617, Val Loss: 0.0301\n",
            "Epoch: 044, Train Loss: 0.0266, Val Acc: 0.9620, Val Loss: 0.0299\n",
            "Epoch: 045, Train Loss: 0.0265, Val Acc: 0.9622, Val Loss: 0.0293\n",
            "Epoch: 046, Train Loss: 0.0265, Val Acc: 0.9622, Val Loss: 0.0296\n",
            "Epoch: 047, Train Loss: 0.0264, Val Acc: 0.9624, Val Loss: 0.0292\n",
            "Epoch: 048, Train Loss: 0.0265, Val Acc: 0.9624, Val Loss: 0.0293\n",
            "Epoch: 049, Train Loss: 0.0263, Val Acc: 0.9627, Val Loss: 0.0297\n",
            "Epoch: 050, Train Loss: 0.0262, Val Acc: 0.9626, Val Loss: 0.0292\n",
            "0.9188629069234296\n",
            "Epoch: 051, Train Loss: 0.0263, Val Acc: 0.9624, Val Loss: 0.0296\n",
            "Epoch: 052, Train Loss: 0.0263, Val Acc: 0.9623, Val Loss: 0.0297\n",
            "Epoch: 053, Train Loss: 0.0264, Val Acc: 0.9623, Val Loss: 0.0291\n",
            "Epoch: 054, Train Loss: 0.0262, Val Acc: 0.9628, Val Loss: 0.0292\n",
            "Epoch: 055, Train Loss: 0.0262, Val Acc: 0.9629, Val Loss: 0.0295\n",
            "Epoch: 056, Train Loss: 0.0261, Val Acc: 0.9627, Val Loss: 0.0293\n",
            "Epoch: 057, Train Loss: 0.0263, Val Acc: 0.9627, Val Loss: 0.0291\n",
            "Epoch: 058, Train Loss: 0.0261, Val Acc: 0.9626, Val Loss: 0.0292\n",
            "Epoch: 059, Train Loss: 0.0262, Val Acc: 0.9630, Val Loss: 0.0290\n",
            "Epoch: 060, Train Loss: 0.0261, Val Acc: 0.9630, Val Loss: 0.0285\n",
            "0.9184777624942687\n",
            "Epoch: 061, Train Loss: 0.0260, Val Acc: 0.9628, Val Loss: 0.0291\n",
            "Epoch: 062, Train Loss: 0.0259, Val Acc: 0.9631, Val Loss: 0.0286\n",
            "Epoch: 063, Train Loss: 0.0260, Val Acc: 0.9628, Val Loss: 0.0288\n",
            "Epoch: 064, Train Loss: 0.0259, Val Acc: 0.9631, Val Loss: 0.0291\n",
            "Epoch: 065, Train Loss: 0.0259, Val Acc: 0.9633, Val Loss: 0.0288\n",
            "Epoch: 066, Train Loss: 0.0257, Val Acc: 0.9631, Val Loss: 0.0287\n",
            "Epoch: 067, Train Loss: 0.0257, Val Acc: 0.9633, Val Loss: 0.0285\n",
            "Epoch: 068, Train Loss: 0.0258, Val Acc: 0.9632, Val Loss: 0.0291\n",
            "Epoch: 069, Train Loss: 0.0258, Val Acc: 0.9635, Val Loss: 0.0288\n",
            "Epoch: 070, Train Loss: 0.0257, Val Acc: 0.9633, Val Loss: 0.0286\n",
            "0.9197065566254012\n",
            "Epoch: 071, Train Loss: 0.0259, Val Acc: 0.9634, Val Loss: 0.0281\n",
            "Epoch: 072, Train Loss: 0.0257, Val Acc: 0.9635, Val Loss: 0.0291\n",
            "Epoch: 073, Train Loss: 0.0257, Val Acc: 0.9631, Val Loss: 0.0283\n",
            "Epoch: 074, Train Loss: 0.0256, Val Acc: 0.9634, Val Loss: 0.0283\n",
            "Epoch: 075, Train Loss: 0.0257, Val Acc: 0.9632, Val Loss: 0.0284\n",
            "Epoch: 076, Train Loss: 0.0257, Val Acc: 0.9637, Val Loss: 0.0283\n",
            "Epoch: 077, Train Loss: 0.0256, Val Acc: 0.9636, Val Loss: 0.0285\n",
            "Epoch: 078, Train Loss: 0.0255, Val Acc: 0.9640, Val Loss: 0.0281\n",
            "Epoch: 079, Train Loss: 0.0255, Val Acc: 0.9639, Val Loss: 0.0280\n",
            "Epoch: 080, Train Loss: 0.0255, Val Acc: 0.9635, Val Loss: 0.0289\n",
            "0.9187895460797799\n",
            "Epoch: 081, Train Loss: 0.0255, Val Acc: 0.9640, Val Loss: 0.0284\n",
            "Epoch: 082, Train Loss: 0.0255, Val Acc: 0.9634, Val Loss: 0.0280\n",
            "Epoch: 083, Train Loss: 0.0255, Val Acc: 0.9638, Val Loss: 0.0279\n",
            "Epoch: 084, Train Loss: 0.0255, Val Acc: 0.9637, Val Loss: 0.0284\n",
            "Epoch: 085, Train Loss: 0.0254, Val Acc: 0.9641, Val Loss: 0.0284\n",
            "Epoch: 086, Train Loss: 0.0254, Val Acc: 0.9643, Val Loss: 0.0281\n",
            "Epoch: 087, Train Loss: 0.0253, Val Acc: 0.9640, Val Loss: 0.0282\n",
            "Epoch: 088, Train Loss: 0.0252, Val Acc: 0.9645, Val Loss: 0.0281\n",
            "Epoch: 089, Train Loss: 0.0254, Val Acc: 0.9639, Val Loss: 0.0285\n",
            "Epoch: 090, Train Loss: 0.0253, Val Acc: 0.9644, Val Loss: 0.0283\n",
            "0.9219990829894544\n",
            "Epoch: 091, Train Loss: 0.0252, Val Acc: 0.9644, Val Loss: 0.0278\n",
            "Epoch: 092, Train Loss: 0.0252, Val Acc: 0.9641, Val Loss: 0.0281\n",
            "Epoch: 093, Train Loss: 0.0253, Val Acc: 0.9645, Val Loss: 0.0279\n",
            "Epoch: 094, Train Loss: 0.0250, Val Acc: 0.9644, Val Loss: 0.0281\n",
            "Epoch: 095, Train Loss: 0.0251, Val Acc: 0.9648, Val Loss: 0.0283\n",
            "Epoch: 096, Train Loss: 0.0251, Val Acc: 0.9639, Val Loss: 0.0278\n",
            "Epoch: 097, Train Loss: 0.0251, Val Acc: 0.9647, Val Loss: 0.0279\n",
            "Epoch: 098, Train Loss: 0.0250, Val Acc: 0.9646, Val Loss: 0.0281\n",
            "Epoch: 099, Train Loss: 0.0249, Val Acc: 0.9647, Val Loss: 0.0283\n",
            "Epoch: 100, Train Loss: 0.0249, Val Acc: 0.9643, Val Loss: 0.0280\n",
            "0.921723979825768\n"
          ]
        }
      ],
      "source": [
        "history = train_node_classifier(model, data, optimizer, criterion, n_epochs=100)"
      ]
    },
    {
      "cell_type": "code",
      "execution_count": 56,
      "metadata": {
        "id": "MYIdqivyHBo-"
      },
      "outputs": [],
      "source": [
        "torch.save(model, f'{result_path}/GCN_simlord.pkl')"
      ]
    },
    {
      "cell_type": "code",
      "execution_count": null,
      "metadata": {
        "id": "40f5xqo4xYzL"
      },
      "outputs": [],
      "source": [
        "model_ = GNNModel(data.x.shape[1], no_classes, num_layers, device)\n",
        "model_.load_state_dict(torch.load(f'{result_path}/GCN_simlord.pkl'))"
      ]
    },
    {
      "cell_type": "code",
      "execution_count": null,
      "metadata": {
        "id": "DOPFcGdwzD2n"
      },
      "outputs": [],
      "source": []
    },
    {
      "cell_type": "code",
      "execution_count": null,
      "metadata": {
        "id": "XHvOxQGGVQCp"
      },
      "outputs": [],
      "source": [
        "test_acc = eval_node_classifier(model_, data, data.test_mask)\n",
        "print(f'Test Acc: {test_acc:.4f}')"
      ]
    },
    {
      "cell_type": "code",
      "execution_count": null,
      "metadata": {
        "id": "pJ7076fqVXdB"
      },
      "outputs": [],
      "source": [
        "model.eval()\n",
        "pred = model(data).argmax(dim=1)"
      ]
    },
    {
      "cell_type": "code",
      "execution_count": null,
      "metadata": {
        "colab": {
          "base_uri": "https://localhost:8080/"
        },
        "id": "jjS_0LPFVrAb",
        "outputId": "b9a7f016-ff85-460f-88f0-50ac74e72540"
      },
      "outputs": [
        {
          "data": {
            "text/plain": [
              "(tensor([657, 286, 286,  ..., 286, 349,  49]),\n",
              " tensor([657, 286, 286,  ..., 286, 349, 611]))"
            ]
          },
          "execution_count": 180,
          "metadata": {},
          "output_type": "execute_result"
        }
      ],
      "source": [
        "pred[data.test_mask], data.y[data.test_mask]"
      ]
    },
    {
      "cell_type": "code",
      "execution_count": null,
      "metadata": {
        "id": "6lu9ooEjBKDV"
      },
      "outputs": [],
      "source": [
        "y_true = truth[test_idx]"
      ]
    },
    {
      "cell_type": "code",
      "execution_count": null,
      "metadata": {
        "id": "l3pNi6LKN6O5"
      },
      "outputs": [],
      "source": [
        "from sklearn.metrics import accuracy_score, classification_report, confusion_matrix"
      ]
    },
    {
      "cell_type": "code",
      "execution_count": null,
      "metadata": {
        "id": "LILRD5VCPZHv"
      },
      "outputs": [],
      "source": [
        "# mask = truth != 'None'"
      ]
    },
    {
      "cell_type": "code",
      "execution_count": null,
      "metadata": {
        "id": "fY9pmhVshQni"
      },
      "outputs": [],
      "source": [
        "y_pred = encoder.inverse_transform(pred[data.test_mask].cpu())\n",
        "# y_true = encoder.inverse_transform(data.y[data.test_mask].cpu())"
      ]
    },
    {
      "cell_type": "code",
      "execution_count": null,
      "metadata": {
        "id": "ec3grI2xOFMF"
      },
      "outputs": [],
      "source": [
        "mask_ = y_true != 'None'\n",
        "y_pred = y_pred[mask_]\n",
        "y_true = y_true[mask_]"
      ]
    },
    {
      "cell_type": "code",
      "execution_count": null,
      "metadata": {
        "colab": {
          "base_uri": "https://localhost:8080/"
        },
        "id": "VZ7a0lq3haf2",
        "outputId": "83d71789-e101-4b4c-e0e3-e6e40363dfa5"
      },
      "outputs": [
        {
          "name": "stderr",
          "output_type": "stream",
          "text": [
            "/usr/local/lib/python3.10/dist-packages/sklearn/metrics/_classification.py:1344: UndefinedMetricWarning: Precision and F-score are ill-defined and being set to 0.0 in labels with no predicted samples. Use `zero_division` parameter to control this behavior.\n",
            "  _warn_prf(average, modifier, msg_start, len(result))\n",
            "/usr/local/lib/python3.10/dist-packages/sklearn/metrics/_classification.py:1344: UndefinedMetricWarning: Recall and F-score are ill-defined and being set to 0.0 in labels with no true samples. Use `zero_division` parameter to control this behavior.\n",
            "  _warn_prf(average, modifier, msg_start, len(result))\n",
            "/usr/local/lib/python3.10/dist-packages/sklearn/metrics/_classification.py:1344: UndefinedMetricWarning: Precision and F-score are ill-defined and being set to 0.0 in labels with no predicted samples. Use `zero_division` parameter to control this behavior.\n",
            "  _warn_prf(average, modifier, msg_start, len(result))\n",
            "/usr/local/lib/python3.10/dist-packages/sklearn/metrics/_classification.py:1344: UndefinedMetricWarning: Recall and F-score are ill-defined and being set to 0.0 in labels with no true samples. Use `zero_division` parameter to control this behavior.\n",
            "  _warn_prf(average, modifier, msg_start, len(result))\n"
          ]
        },
        {
          "name": "stdout",
          "output_type": "stream",
          "text": [
            "                               precision    recall  f1-score   support\n",
            "\n",
            "             Actinomyces oris     0.0000    0.0000    0.0000         0\n",
            "          Bacillus spizizenii     0.0000    0.0000    0.0000         0\n",
            "            Bacillus subtilis     0.0000    0.0000    0.0000       676\n",
            "          Bacillus velezensis     0.0000    0.0000    0.0000         0\n",
            "          Bacillus wiedmannii     0.0000    0.0000    0.0000         0\n",
            "      Cryptococcus neoformans     0.6190    1.0000    0.7647        13\n",
            "        Enterococcus faecalis     0.4882    0.8874    0.6299       888\n",
            "             Escherichia coli     0.9801    0.9657    0.9729     13839\n",
            "Limosilactobacillus fermentum     0.6383    0.9375    0.7595        32\n",
            "       Listeria monocytogenes     0.9977    0.9601    0.9785     23002\n",
            "       Pseudomonas aeruginosa     0.9990    0.9978    0.9984      5016\n",
            "     Saccharomyces cerevisiae     0.8690    0.0650    0.1209      1939\n",
            "          Salmonella enterica     0.9053    0.9387    0.9217      4422\n",
            "        Staphylococcus aureus     0.9853    0.9964    0.9908      4698\n",
            "\n",
            "                     accuracy                         0.9215     54525\n",
            "                    macro avg     0.5344    0.5535    0.5098     54525\n",
            "                 weighted avg     0.9592    0.9215    0.9269     54525\n",
            "\n"
          ]
        },
        {
          "name": "stderr",
          "output_type": "stream",
          "text": [
            "/usr/local/lib/python3.10/dist-packages/sklearn/metrics/_classification.py:1344: UndefinedMetricWarning: Precision and F-score are ill-defined and being set to 0.0 in labels with no predicted samples. Use `zero_division` parameter to control this behavior.\n",
            "  _warn_prf(average, modifier, msg_start, len(result))\n",
            "/usr/local/lib/python3.10/dist-packages/sklearn/metrics/_classification.py:1344: UndefinedMetricWarning: Recall and F-score are ill-defined and being set to 0.0 in labels with no true samples. Use `zero_division` parameter to control this behavior.\n",
            "  _warn_prf(average, modifier, msg_start, len(result))\n"
          ]
        }
      ],
      "source": [
        "print(classification_report(y_true, y_pred,digits=4))"
      ]
    },
    {
      "cell_type": "code",
      "execution_count": null,
      "metadata": {
        "id": "hf4IBobWQDMB"
      },
      "outputs": [],
      "source": [
        "cm = confusion_matrix(y_true, y_pred)"
      ]
    },
    {
      "cell_type": "code",
      "execution_count": null,
      "metadata": {
        "colab": {
          "base_uri": "https://localhost:8080/",
          "height": 641
        },
        "id": "IA5zeDdM3stZ",
        "outputId": "638f2381-8f6f-4f8d-aa24-193106e4cc02"
      },
      "outputs": [
        {
          "data": {
            "image/png": "[encoded data removed]",
            "text/plain": [
              "<Figure size 1000x700 with 2 Axes>"
            ]
          },
          "metadata": {},
          "output_type": "display_data"
        }
      ],
      "source": [
        "plt.figure(figsize=(10,7))\n",
        "sns.heatmap(cm, annot=True, fmt='d')\n",
        "plt.title('Confusion Matrix')\n",
        "plt.xlabel('Predicted')\n",
        "plt.ylabel('Actual')\n",
        "plt.show()"
      ]
    },
    {
      "cell_type": "code",
      "execution_count": null,
      "metadata": {
        "id": "cRQpzVdP6wxI"
      },
      "outputs": [],
      "source": []
    }
  ],
  "metadata": {
    "colab": {
      "machine_shape": "hm",
      "provenance": []
    },
    "kernelspec": {
      "display_name": "Python 3",
      "name": "python3"
    },
    "language_info": {
      "name": "python"
    }
  },
  "nbformat": 4,
  "nbformat_minor": 0
}
