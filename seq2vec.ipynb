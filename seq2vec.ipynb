{
  "cells": [
    {
      "cell_type": "markdown",
      "metadata": {
        "id": "view-in-github",
        "colab_type": "text"
      },
      "source": [
        "<a href=\"https://colab.research.google.com/github/Pahan99/hybrid-classification/blob/main/seq2vec.ipynb\" target=\"_parent\"><img src=\"https://colab.research.google.com/assets/colab-badge.svg\" alt=\"Open In Colab\"/></a>"
      ]
    },
    {
      "cell_type": "code",
      "execution_count": 10,
      "metadata": {
        "colab": {
          "base_uri": "https://localhost:8080/"
        },
        "id": "bIAWD1kA79Lx",
        "outputId": "6b34811a-3c94-4102-cbf7-67cd1a66f112"
      },
      "outputs": [
        {
          "output_type": "stream",
          "name": "stdout",
          "text": [
            "Drive already mounted at /content/drive; to attempt to forcibly remount, call drive.mount(\"/content/drive\", force_remount=True).\n"
          ]
        }
      ],
      "source": [
        "from google.colab import drive\n",
        "drive.mount('/content/drive')"
      ]
    },
    {
      "cell_type": "code",
      "execution_count": 11,
      "metadata": {
        "id": "QOPH0lhfn6hH"
      },
      "outputs": [],
      "source": [
        "import pandas as pd\n",
        "import polars as pl\n",
        "import numpy as np\n",
        "\n",
        "from sklearn.decomposition import PCA\n",
        "from sklearn.manifold import TSNE\n",
        "import umap"
      ]
    },
    {
      "cell_type": "code",
      "execution_count": 12,
      "metadata": {
        "id": "7pM-RMp4Azba"
      },
      "outputs": [],
      "source": [
        "# k-mer size\n",
        "k = 4\n",
        "\n",
        "# dimensionlity reduction technique used\n",
        "# Use 'pca','tsne', 'umap'\n",
        "dim_reduction = 'pca'"
      ]
    },
    {
      "cell_type": "code",
      "execution_count": 13,
      "metadata": {
        "id": "PbwE4FPu2Sus"
      },
      "outputs": [],
      "source": [
        "filepath = f'/content/drive/MyDrive/fyp code/seq2vec'"
      ]
    },
    {
      "cell_type": "code",
      "execution_count": 14,
      "metadata": {
        "id": "-JaPJz2nvQPK"
      },
      "outputs": [],
      "source": [
        "df = pd.read_csv(f'{filepath}/output_k_{k}.csv',header=None)"
      ]
    },
    {
      "cell_type": "code",
      "execution_count": 15,
      "metadata": {
        "colab": {
          "base_uri": "https://localhost:8080/"
        },
        "id": "vSDsHluSDOWx",
        "outputId": "8badf4b4-1709-40b4-8b0f-2ce16b3d64b5"
      },
      "outputs": [
        {
          "output_type": "execute_result",
          "data": {
            "text/plain": [
              "(1160526, 136)"
            ]
          },
          "metadata": {},
          "execution_count": 15
        }
      ],
      "source": [
        "df.shape"
      ]
    },
    {
      "cell_type": "markdown",
      "metadata": {
        "id": "Bv7773OaSkBY"
      },
      "source": [
        "Using selected 1000"
      ]
    },
    {
      "cell_type": "code",
      "execution_count": 16,
      "metadata": {
        "colab": {
          "base_uri": "https://localhost:8080/"
        },
        "id": "gHdMOiNOSpGz",
        "outputId": "b014696f-77b8-48a1-b2c7-c5c69f19f32d"
      },
      "outputs": [
        {
          "output_type": "execute_result",
          "data": {
            "text/plain": [
              "(1000,)"
            ]
          },
          "metadata": {},
          "execution_count": 16
        }
      ],
      "source": [
        "samples = np.load('/content/drive/MyDrive/fyp code/output fa/sampled_indices.npy')\n",
        "samples.shape"
      ]
    },
    {
      "cell_type": "code",
      "execution_count": 17,
      "metadata": {
        "id": "2sO_SryWrPC2"
      },
      "outputs": [],
      "source": [
        "arr = df.iloc[samples,:].to_numpy()"
      ]
    },
    {
      "cell_type": "code",
      "execution_count": 18,
      "metadata": {
        "id": "D37Y8yfrpcJf"
      },
      "outputs": [],
      "source": [
        "np.save(f'{filepath}/vectors_k_{k}.npy',arr)"
      ]
    },
    {
      "cell_type": "code",
      "execution_count": 19,
      "metadata": {
        "colab": {
          "base_uri": "https://localhost:8080/"
        },
        "id": "d7UAFeYirR8P",
        "outputId": "7fdfc1ec-7598-42f1-bc48-3c5a70ae3d97"
      },
      "outputs": [
        {
          "output_type": "execute_result",
          "data": {
            "text/plain": [
              "((1000, 136), (1160526, 136))"
            ]
          },
          "metadata": {},
          "execution_count": 19
        }
      ],
      "source": [
        "arr.shape, df.shape"
      ]
    },
    {
      "cell_type": "markdown",
      "metadata": {
        "id": "Mi_FOpif5C5U"
      },
      "source": [
        "# Dimensionality Reduction"
      ]
    },
    {
      "cell_type": "code",
      "execution_count": 20,
      "metadata": {
        "id": "UjCq_cUW5GKm"
      },
      "outputs": [],
      "source": [
        "def dim_reduction(method, arr):\n",
        "  \"\"\"\n",
        "  A function to reduce the dimensionality of the vectors\n",
        "  Parameters:method: str - the dimensionality reduction technique to use (pca, tsne, umap)\n",
        "                     arr: np.array - the array of vectors to reduce\n",
        "  Returns: reduced: np.array - the reduced array of vectors\n",
        "  \"\"\"\n",
        "  reducer = None\n",
        "  match method:\n",
        "    case 'pca':\n",
        "      reducer = PCA(n_components=2,random_state=42)\n",
        "    case 'tsne':\n",
        "      reducer = TSNE(n_components=2,random_state=42)\n",
        "    case 'umap':\n",
        "      reducer = umap.UMAP(n_neighbors=5, random_state=42)\n",
        "  reduced = reducer.fit_transform(arr)\n",
        "  return reduced"
      ]
    },
    {
      "cell_type": "code",
      "source": [
        "reduced_pca = dim_reduction('pca',arr)\n",
        "reduced_tsne = dim_reduction('tsne',arr)\n",
        "reduced_umap = dim_reduction('umap',arr)"
      ],
      "metadata": {
        "colab": {
          "base_uri": "https://localhost:8080/"
        },
        "id": "fB1YFg0U-UVq",
        "outputId": "653f81c5-ee0e-408f-d5cf-e87228992fed"
      },
      "execution_count": 21,
      "outputs": [
        {
          "output_type": "stream",
          "name": "stderr",
          "text": [
            "/usr/local/lib/python3.10/dist-packages/umap/umap_.py:1943: UserWarning: n_jobs value -1 overridden to 1 by setting random_state. Use no seed for parallelism.\n",
            "  warn(f\"n_jobs value {self.n_jobs} overridden to 1 by setting random_state. Use no seed for parallelism.\")\n"
          ]
        }
      ]
    },
    {
      "cell_type": "code",
      "source": [
        "np.save(f'{filepath}/k_{k}/reduced_pca_k_{k}.npy',reduced_pca)\n",
        "np.save(f'{filepath}/k_{k}/reduced_tsne_k_{k}.npy',reduced_tsne)\n",
        "np.save(f'{filepath}/k_{k}/reduced_umap_k_{k}.npy',reduced_umap)"
      ],
      "metadata": {
        "id": "aqqPiTG--uEN"
      },
      "execution_count": 23,
      "outputs": []
    }
  ],
  "metadata": {
    "colab": {
      "provenance": [],
      "include_colab_link": true
    },
    "kernelspec": {
      "display_name": "Python 3",
      "name": "python3"
    },
    "language_info": {
      "name": "python"
    }
  },
  "nbformat": 4,
  "nbformat_minor": 0
}